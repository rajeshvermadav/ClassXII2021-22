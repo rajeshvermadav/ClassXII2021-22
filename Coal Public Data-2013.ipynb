{
 "cells": [
  {
   "cell_type": "markdown",
   "id": "e3bae8c4",
   "metadata": {},
   "source": [
    "## Coal  Production Exploration Dataset 2013"
   ]
  },
  {
   "cell_type": "markdown",
   "id": "206625cb",
   "metadata": {},
   "source": [
    "#### 1. Write a Pandas program to import csv data (coalpublic2013.csv ) into a Pandas dataframe."
   ]
  },
  {
   "cell_type": "markdown",
   "id": "a50f3b82",
   "metadata": {},
   "source": [
    "#### 2. Write a Pandas program to get the data types of the given CSV data (coalpublic2013.csv ) fields."
   ]
  },
  {
   "cell_type": "markdown",
   "id": "b46245fd",
   "metadata": {},
   "source": [
    "#### 3. Write a Pandas program to read specific columns from a given CSV file."
   ]
  },
  {
   "cell_type": "markdown",
   "id": "f70cb722",
   "metadata": {},
   "source": [
    "#### 4. Write a Pandas program to find the sum, mean, max, min value of 'Production (short tons)' column of coalpublic2013.csv file."
   ]
  },
  {
   "cell_type": "markdown",
   "id": "3c5fe22c",
   "metadata": {},
   "source": [
    "#### 5. Write a Pandas program to insert a column in the sixth position of the said CSV File and fill it with NaN values."
   ]
  },
  {
   "cell_type": "markdown",
   "id": "16bd5a50",
   "metadata": {},
   "source": [
    "#### 6. Write a Pandas program to import some csv  data (coalpublic2013.csv ) skipping first twenty rows into a Pandas dataframe."
   ]
  },
  {
   "cell_type": "markdown",
   "id": "967c75db",
   "metadata": {},
   "source": [
    "#### 7. Write a Pandas program to add summation to a row of the given CSV file."
   ]
  },
  {
   "cell_type": "markdown",
   "id": "9dd513f9",
   "metadata": {},
   "source": [
    "#### 8. Write a Pandas program to import excel data (coalpublic2013.csv ) into a Pandas dataframe and display the last ten rows."
   ]
  },
  {
   "cell_type": "markdown",
   "id": "6512532f",
   "metadata": {},
   "source": [
    "#### 9. Write a Pandas program to import excel data (coalpublic2013.csv ) into a dataframe and find a specific MSHA ID."
   ]
  },
  {
   "cell_type": "markdown",
   "id": "74167a77",
   "metadata": {},
   "source": [
    "#### 10. Write a Pandas program to import excel data (coalpublic2013.csv ) into a dataframe and find details where \"Labor Hours\" > 20000."
   ]
  },
  {
   "cell_type": "code",
   "execution_count": null,
   "id": "085cf9ec",
   "metadata": {},
   "outputs": [],
   "source": []
  }
 ],
 "metadata": {
  "kernelspec": {
   "display_name": "Python 3",
   "language": "python",
   "name": "python3"
  },
  "language_info": {
   "codemirror_mode": {
    "name": "ipython",
    "version": 3
   },
   "file_extension": ".py",
   "mimetype": "text/x-python",
   "name": "python",
   "nbconvert_exporter": "python",
   "pygments_lexer": "ipython3",
   "version": "3.8.3"
  }
 },
 "nbformat": 4,
 "nbformat_minor": 5
}
